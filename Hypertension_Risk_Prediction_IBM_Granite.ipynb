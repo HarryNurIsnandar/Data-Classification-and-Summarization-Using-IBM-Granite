{
  "nbformat": 4,
  "nbformat_minor": 0,
  "metadata": {
    "colab": {
      "provenance": []
    },
    "kernelspec": {
      "name": "python3",
      "display_name": "Python 3"
    },
    "language_info": {
      "name": "python"
    }
  },
  "cells": [
    {
      "cell_type": "markdown",
      "source": [
        "# Menambahkan Dataset\n",
        "## https://www.kaggle.com/datasets/miadul/hypertension-risk-prediction-dataset/data"
      ],
      "metadata": {
        "id": "1kfthSnJBCGL"
      }
    },
    {
      "cell_type": "code",
      "execution_count": 33,
      "metadata": {
        "id": "NfvAsbfQsaKq",
        "colab": {
          "base_uri": "https://localhost:8080/"
        },
        "outputId": "ed5ca2c9-8115-40f6-bfbd-8f7f6be9a2db"
      },
      "outputs": [
        {
          "output_type": "stream",
          "name": "stdout",
          "text": [
            "Requirement already satisfied: langchain_community in /usr/local/lib/python3.11/dist-packages (0.3.27)\n",
            "Requirement already satisfied: langchain-core<1.0.0,>=0.3.66 in /usr/local/lib/python3.11/dist-packages (from langchain_community) (0.3.71)\n",
            "Requirement already satisfied: langchain<1.0.0,>=0.3.26 in /usr/local/lib/python3.11/dist-packages (from langchain_community) (0.3.26)\n",
            "Requirement already satisfied: SQLAlchemy<3,>=1.4 in /usr/local/lib/python3.11/dist-packages (from langchain_community) (2.0.41)\n",
            "Requirement already satisfied: requests<3,>=2 in /usr/local/lib/python3.11/dist-packages (from langchain_community) (2.32.3)\n",
            "Requirement already satisfied: PyYAML>=5.3 in /usr/local/lib/python3.11/dist-packages (from langchain_community) (6.0.2)\n",
            "Requirement already satisfied: aiohttp<4.0.0,>=3.8.3 in /usr/local/lib/python3.11/dist-packages (from langchain_community) (3.12.14)\n",
            "Requirement already satisfied: tenacity!=8.4.0,<10,>=8.1.0 in /usr/local/lib/python3.11/dist-packages (from langchain_community) (8.5.0)\n",
            "Requirement already satisfied: dataclasses-json<0.7,>=0.5.7 in /usr/local/lib/python3.11/dist-packages (from langchain_community) (0.6.7)\n",
            "Requirement already satisfied: pydantic-settings<3.0.0,>=2.4.0 in /usr/local/lib/python3.11/dist-packages (from langchain_community) (2.10.1)\n",
            "Requirement already satisfied: langsmith>=0.1.125 in /usr/local/lib/python3.11/dist-packages (from langchain_community) (0.4.8)\n",
            "Requirement already satisfied: httpx-sse<1.0.0,>=0.4.0 in /usr/local/lib/python3.11/dist-packages (from langchain_community) (0.4.1)\n",
            "Requirement already satisfied: numpy>=1.26.2 in /usr/local/lib/python3.11/dist-packages (from langchain_community) (2.0.2)\n",
            "Requirement already satisfied: aiohappyeyeballs>=2.5.0 in /usr/local/lib/python3.11/dist-packages (from aiohttp<4.0.0,>=3.8.3->langchain_community) (2.6.1)\n",
            "Requirement already satisfied: aiosignal>=1.4.0 in /usr/local/lib/python3.11/dist-packages (from aiohttp<4.0.0,>=3.8.3->langchain_community) (1.4.0)\n",
            "Requirement already satisfied: attrs>=17.3.0 in /usr/local/lib/python3.11/dist-packages (from aiohttp<4.0.0,>=3.8.3->langchain_community) (25.3.0)\n",
            "Requirement already satisfied: frozenlist>=1.1.1 in /usr/local/lib/python3.11/dist-packages (from aiohttp<4.0.0,>=3.8.3->langchain_community) (1.7.0)\n",
            "Requirement already satisfied: multidict<7.0,>=4.5 in /usr/local/lib/python3.11/dist-packages (from aiohttp<4.0.0,>=3.8.3->langchain_community) (6.6.3)\n",
            "Requirement already satisfied: propcache>=0.2.0 in /usr/local/lib/python3.11/dist-packages (from aiohttp<4.0.0,>=3.8.3->langchain_community) (0.3.2)\n",
            "Requirement already satisfied: yarl<2.0,>=1.17.0 in /usr/local/lib/python3.11/dist-packages (from aiohttp<4.0.0,>=3.8.3->langchain_community) (1.20.1)\n",
            "Requirement already satisfied: marshmallow<4.0.0,>=3.18.0 in /usr/local/lib/python3.11/dist-packages (from dataclasses-json<0.7,>=0.5.7->langchain_community) (3.26.1)\n",
            "Requirement already satisfied: typing-inspect<1,>=0.4.0 in /usr/local/lib/python3.11/dist-packages (from dataclasses-json<0.7,>=0.5.7->langchain_community) (0.9.0)\n",
            "Requirement already satisfied: langchain-text-splitters<1.0.0,>=0.3.8 in /usr/local/lib/python3.11/dist-packages (from langchain<1.0.0,>=0.3.26->langchain_community) (0.3.8)\n",
            "Requirement already satisfied: pydantic<3.0.0,>=2.7.4 in /usr/local/lib/python3.11/dist-packages (from langchain<1.0.0,>=0.3.26->langchain_community) (2.11.7)\n",
            "Requirement already satisfied: jsonpatch<2.0,>=1.33 in /usr/local/lib/python3.11/dist-packages (from langchain-core<1.0.0,>=0.3.66->langchain_community) (1.33)\n",
            "Requirement already satisfied: typing-extensions>=4.7 in /usr/local/lib/python3.11/dist-packages (from langchain-core<1.0.0,>=0.3.66->langchain_community) (4.14.1)\n",
            "Requirement already satisfied: packaging>=23.2 in /usr/local/lib/python3.11/dist-packages (from langchain-core<1.0.0,>=0.3.66->langchain_community) (25.0)\n",
            "Requirement already satisfied: httpx<1,>=0.23.0 in /usr/local/lib/python3.11/dist-packages (from langsmith>=0.1.125->langchain_community) (0.28.1)\n",
            "Requirement already satisfied: orjson<4.0.0,>=3.9.14 in /usr/local/lib/python3.11/dist-packages (from langsmith>=0.1.125->langchain_community) (3.11.0)\n",
            "Requirement already satisfied: requests-toolbelt<2.0.0,>=1.0.0 in /usr/local/lib/python3.11/dist-packages (from langsmith>=0.1.125->langchain_community) (1.0.0)\n",
            "Requirement already satisfied: zstandard<0.24.0,>=0.23.0 in /usr/local/lib/python3.11/dist-packages (from langsmith>=0.1.125->langchain_community) (0.23.0)\n",
            "Requirement already satisfied: python-dotenv>=0.21.0 in /usr/local/lib/python3.11/dist-packages (from pydantic-settings<3.0.0,>=2.4.0->langchain_community) (1.1.1)\n",
            "Requirement already satisfied: typing-inspection>=0.4.0 in /usr/local/lib/python3.11/dist-packages (from pydantic-settings<3.0.0,>=2.4.0->langchain_community) (0.4.1)\n",
            "Requirement already satisfied: charset-normalizer<4,>=2 in /usr/local/lib/python3.11/dist-packages (from requests<3,>=2->langchain_community) (3.4.2)\n",
            "Requirement already satisfied: idna<4,>=2.5 in /usr/local/lib/python3.11/dist-packages (from requests<3,>=2->langchain_community) (3.10)\n",
            "Requirement already satisfied: urllib3<3,>=1.21.1 in /usr/local/lib/python3.11/dist-packages (from requests<3,>=2->langchain_community) (2.5.0)\n",
            "Requirement already satisfied: certifi>=2017.4.17 in /usr/local/lib/python3.11/dist-packages (from requests<3,>=2->langchain_community) (2025.7.14)\n",
            "Requirement already satisfied: greenlet>=1 in /usr/local/lib/python3.11/dist-packages (from SQLAlchemy<3,>=1.4->langchain_community) (3.2.3)\n",
            "Requirement already satisfied: anyio in /usr/local/lib/python3.11/dist-packages (from httpx<1,>=0.23.0->langsmith>=0.1.125->langchain_community) (4.9.0)\n",
            "Requirement already satisfied: httpcore==1.* in /usr/local/lib/python3.11/dist-packages (from httpx<1,>=0.23.0->langsmith>=0.1.125->langchain_community) (1.0.9)\n",
            "Requirement already satisfied: h11>=0.16 in /usr/local/lib/python3.11/dist-packages (from httpcore==1.*->httpx<1,>=0.23.0->langsmith>=0.1.125->langchain_community) (0.16.0)\n",
            "Requirement already satisfied: jsonpointer>=1.9 in /usr/local/lib/python3.11/dist-packages (from jsonpatch<2.0,>=1.33->langchain-core<1.0.0,>=0.3.66->langchain_community) (3.0.0)\n",
            "Requirement already satisfied: annotated-types>=0.6.0 in /usr/local/lib/python3.11/dist-packages (from pydantic<3.0.0,>=2.7.4->langchain<1.0.0,>=0.3.26->langchain_community) (0.7.0)\n",
            "Requirement already satisfied: pydantic-core==2.33.2 in /usr/local/lib/python3.11/dist-packages (from pydantic<3.0.0,>=2.7.4->langchain<1.0.0,>=0.3.26->langchain_community) (2.33.2)\n",
            "Requirement already satisfied: mypy-extensions>=0.3.0 in /usr/local/lib/python3.11/dist-packages (from typing-inspect<1,>=0.4.0->dataclasses-json<0.7,>=0.5.7->langchain_community) (1.1.0)\n",
            "Requirement already satisfied: sniffio>=1.1 in /usr/local/lib/python3.11/dist-packages (from anyio->httpx<1,>=0.23.0->langsmith>=0.1.125->langchain_community) (1.3.1)\n",
            "Requirement already satisfied: replicate in /usr/local/lib/python3.11/dist-packages (1.0.7)\n",
            "Requirement already satisfied: httpx<1,>=0.21.0 in /usr/local/lib/python3.11/dist-packages (from replicate) (0.28.1)\n",
            "Requirement already satisfied: packaging in /usr/local/lib/python3.11/dist-packages (from replicate) (25.0)\n",
            "Requirement already satisfied: pydantic>1.10.7 in /usr/local/lib/python3.11/dist-packages (from replicate) (2.11.7)\n",
            "Requirement already satisfied: typing_extensions>=4.5.0 in /usr/local/lib/python3.11/dist-packages (from replicate) (4.14.1)\n",
            "Requirement already satisfied: anyio in /usr/local/lib/python3.11/dist-packages (from httpx<1,>=0.21.0->replicate) (4.9.0)\n",
            "Requirement already satisfied: certifi in /usr/local/lib/python3.11/dist-packages (from httpx<1,>=0.21.0->replicate) (2025.7.14)\n",
            "Requirement already satisfied: httpcore==1.* in /usr/local/lib/python3.11/dist-packages (from httpx<1,>=0.21.0->replicate) (1.0.9)\n",
            "Requirement already satisfied: idna in /usr/local/lib/python3.11/dist-packages (from httpx<1,>=0.21.0->replicate) (3.10)\n",
            "Requirement already satisfied: h11>=0.16 in /usr/local/lib/python3.11/dist-packages (from httpcore==1.*->httpx<1,>=0.21.0->replicate) (0.16.0)\n",
            "Requirement already satisfied: annotated-types>=0.6.0 in /usr/local/lib/python3.11/dist-packages (from pydantic>1.10.7->replicate) (0.7.0)\n",
            "Requirement already satisfied: pydantic-core==2.33.2 in /usr/local/lib/python3.11/dist-packages (from pydantic>1.10.7->replicate) (2.33.2)\n",
            "Requirement already satisfied: typing-inspection>=0.4.0 in /usr/local/lib/python3.11/dist-packages (from pydantic>1.10.7->replicate) (0.4.1)\n",
            "Requirement already satisfied: sniffio>=1.1 in /usr/local/lib/python3.11/dist-packages (from anyio->httpx<1,>=0.21.0->replicate) (1.3.1)\n"
          ]
        }
      ],
      "source": [
        "!pip install langchain_community\n",
        "!pip install replicate"
      ]
    },
    {
      "cell_type": "code",
      "source": [
        "from langchain_community.llms import Replicate\n",
        "import os\n",
        "from google.colab import userdata\n",
        "\n",
        "# Set the API token\n",
        "api_token = userdata.get('api_token')\n",
        "os.environ[\"REPLICATE_API_TOKEN\"] = api_token\n",
        "\n",
        "# Model setup\n",
        "output = Replicate(\n",
        "    model = \"ibm-granite/granite-3.3-8b-instruct\",\n",
        "    replicate_api_token=api_token,\n",
        ")"
      ],
      "metadata": {
        "id": "RjiSohjaBptr"
      },
      "execution_count": 34,
      "outputs": []
    },
    {
      "cell_type": "code",
      "source": [
        "# Impor modul\n",
        "import os\n",
        "import json\n",
        "import pandas as pd\n",
        "from google.colab import userdata\n",
        "from langchain_community.llms import Replicate\n",
        "\n",
        "from google.colab import drive\n",
        "drive.mount('/content/drive')\n",
        "\n",
        "# Baca CSV langsung dari Google Drive\n",
        "file_path = '/content/drive/MyDrive/Capstone Project_Hacktiv8_IBM/hypertension_dataset.csv'\n",
        "df = pd.read_csv(file_path)"
      ],
      "metadata": {
        "colab": {
          "base_uri": "https://localhost:8080/"
        },
        "id": "5rGDBdG8LNHB",
        "outputId": "d5127fe7-6890-42ad-ab6c-5d47b452f449"
      },
      "execution_count": 35,
      "outputs": [
        {
          "output_type": "stream",
          "name": "stdout",
          "text": [
            "Drive already mounted at /content/drive; to attempt to forcibly remount, call drive.mount(\"/content/drive\", force_remount=True).\n"
          ]
        }
      ]
    },
    {
      "cell_type": "code",
      "source": [
        "# Ambil beberapa data sebagai contoh (misal 3 pasien)\n",
        "samples = df.sample(3, random_state=42)\n",
        "\n",
        "# Loop tiap baris → kirim ke model\n",
        "for idx, row in samples.iterrows():\n",
        "    input_data = row.drop(\"Has_Hypertension\").to_dict()\n",
        "    input_json = json.dumps(input_data, indent=2)\n",
        "\n",
        "    prompt = f\"\"\"\n",
        "### Instruction:\n",
        "Berdasarkan data pasien berikut, prediksi apakah pasien memiliki hipertensi (Yes/No), dan jelaskan alasannya secara singkat berdasarkan fitur yang tersedia.\n",
        "\n",
        "### Input:\n",
        "{input_json}\n",
        "\n",
        "### Response:\n",
        "\"\"\"\n",
        "\n",
        "# Kirim prompt ke model\n",
        "print(f\"🧪 Prompt untuk pasien {idx}:\\n\")\n",
        "result = output.invoke(prompt)\n",
        "print(result)\n",
        "print(\"-\" * 80)"
      ],
      "metadata": {
        "colab": {
          "base_uri": "https://localhost:8080/"
        },
        "id": "usEYvZbvNgn5",
        "outputId": "b4b67b05-70f5-492f-c4ef-ab3f26f07bc0"
      },
      "execution_count": 36,
      "outputs": [
        {
          "output_type": "stream",
          "name": "stdout",
          "text": [
            "🧪 Prompt untuk pasien 1052:\n",
            "\n",
            "Prediksi: Yes\n",
            "\n",
            "Alasan:\n",
            "\n",
            "1. Age: The patient is 60 years old, which increases the risk of hypertension due to age-related arterial stiffening.\n",
            "\n",
            "2. Salt Intake: With a salt intake of 8.6 grams, this is higher than the recommended daily limit (5g for adults), contributing to increased blood pressure.\n",
            "\n",
            "3. Stress Score: A moderate stress score of 4 indicates that the patient experiences stress, which can elevate blood pressure levels.\n",
            "\n",
            "4. BP History: The patient has a history of hypertension, suggesting that they are prone to high blood pressure.\n",
            "\n",
            "5. Sleep Duration: A sleep duration of 6.5 hours is below the recommended 7-9 hours for adults. Insufficient sleep can lead to increased stress hormones and higher blood pressure.\n",
            "\n",
            "6. BMI: A BMI of 22.7 indicates that the patient is within the normal weight range, which generally reduces the risk of hypertension. However, this feature alone is not sufficient to counterbalance the other risk factors present in this case.\n",
            "\n",
            "7. Medication: The patient is taking a diuretic, which is a common medication for managing hypertension, implying that the patient has been diagnosed with the condition.\n",
            "\n",
            "8. Family History: The presence of a family history of hypertension suggests a genetic predisposition to the condition.\n",
            "\n",
            "9. Exercise Level: A low exercise level can contribute to higher blood pressure, although in this case, it's balanced with other factors like medication use.\n",
            "\n",
            "10. Smoking Status: As a non-smoker, this feature does not directly contribute to increased risk of hypertension.\n",
            "\n",
            "Taking into account the significant risk factors (age, salt intake, stress, BP history, sleep duration, family history, medication, and low exercise level), the prediction is that this patient has hypertension.\n",
            "--------------------------------------------------------------------------------\n"
          ]
        }
      ]
    },
    {
      "cell_type": "code",
      "source": [
        "prompt = f\"\"\"\n",
        "## 🩺 Instruction:\n",
        "Berdasarkan data pasien berikut, prediksikan apakah pasien memiliki hipertensi (Jawaban: **Yes** atau **No**).\n",
        "Berikan penjelasan singkat berdasarkan fitur-fitur yang tersedia.\n",
        "\n",
        "## 📄 Data Pasien:\n",
        "{input_json}\n",
        "\n",
        "## 🧠 Response:\n",
        "\"\"\""
      ],
      "metadata": {
        "id": "hCPea759OS5q"
      },
      "execution_count": 37,
      "outputs": []
    },
    {
      "cell_type": "code",
      "source": [
        "pars = {\n",
        "    \"top_k\": 50,\n",
        "    \"top_p\": 0.95,\n",
        "    \"max_new_tokens\": 300,\n",
        "    \"min_tokens\": 50,\n",
        "    \"random_seed\": None,\n",
        "    \"repetition_penalty\": 1.2,\n",
        "    \"stopping_criteria\": \"length (256 tokens)\",\n",
        "    \"stop_sequences\": None\n",
        "}"
      ],
      "metadata": {
        "id": "pu5vlO7bRn8S"
      },
      "execution_count": 43,
      "outputs": []
    },
    {
      "cell_type": "code",
      "source": [
        "print(prompt)"
      ],
      "metadata": {
        "colab": {
          "base_uri": "https://localhost:8080/"
        },
        "id": "dPK-C2mbJNGK",
        "outputId": "679bdd02-728d-4f8a-8739-5130ac2ccc42"
      },
      "execution_count": 44,
      "outputs": [
        {
          "output_type": "stream",
          "name": "stdout",
          "text": [
            "\n",
            "## 🩺 Instruction:\n",
            "Berdasarkan data pasien berikut, prediksikan apakah pasien memiliki hipertensi (Jawaban: **Yes** atau **No**). \n",
            "Berikan penjelasan singkat berdasarkan fitur-fitur yang tersedia.\n",
            "\n",
            "## 📄 Data Pasien:\n",
            "{\n",
            "  \"Age\": 60,\n",
            "  \"Salt_Intake\": 8.6,\n",
            "  \"Stress_Score\": 4,\n",
            "  \"BP_History\": \"Hypertension\",\n",
            "  \"Sleep_Duration\": 6.5,\n",
            "  \"BMI\": 22.7,\n",
            "  \"Medication\": \"Diuretic\",\n",
            "  \"Family_History\": \"Yes\",\n",
            "  \"Exercise_Level\": \"Low\",\n",
            "  \"Smoking_Status\": \"Non-Smoker\"\n",
            "}\n",
            "\n",
            "## 🧠 Response:\n",
            "\n"
          ]
        }
      ]
    },
    {
      "cell_type": "code",
      "source": [
        "response = output.invoke(prompt, parameters=pars)\n",
        "print(response)"
      ],
      "metadata": {
        "colab": {
          "base_uri": "https://localhost:8080/"
        },
        "id": "yGimfQhdOjTE",
        "outputId": "9b267626-d9d5-477a-edb2-6df71f2fe102"
      },
      "execution_count": 45,
      "outputs": [
        {
          "output_type": "stream",
          "name": "stdout",
          "text": [
            "Yes\n",
            "\n",
            "### Explanation:\n",
            "\n",
            "1. **Age**: The patient is 60 years old. Age is a risk factor for hypertension.\n",
            "\n",
            "2. **Salt Intake**: With a salt intake of 8.6 grams, this is above the WHO recommended maximum of 5 grams per day, which can contribute to hypertension.\n",
            "\n",
            "3. **Stress Score**: A score of 4 indicates moderate stress levels. Chronic stress can elevate blood pressure.\n",
            "\n",
            "4. **BP History**: The patient has a history of hypertension, suggesting a predisposition to the condition.\n",
            "\n",
            "5. **Sleep Duration**: Sleeping for 6.5 hours, although within the recommended 7-9 hours, does not indicate poor sleep quality which can be linked to hypertension.\n",
            "\n",
            "6. **BMI**: A BMI of 22.7 is within the healthy range (18.5-24.9), suggesting the patient is not overweight, which can be a risk factor for hypertension.\n",
            "\n",
            "7. **Medication**: Currently taking a diuretic, a common medication for managing hypertension, indicating the patient's current condition is being actively treated.\n",
            "\n",
            "8. **Family History**: Having a family history of hypertension increases the patient's risk of developing the condition.\n",
            "\n",
            "9. **Exercise Level**: Low exercise level is a risk factor for hypertension as physical inactivity can contribute to high blood pressure.\n",
            "\n",
            "10. **Smoking Status**: As a non-smoker, this is a positive factor as smoking is known to raise blood pressure in both the short and long term.\n",
            "\n",
            "Despite having some protective factors (BMI, non-smoking status), the presence of a pre-existing hypertension diagnosis, high salt intake, age, stress, family history, low exercise, and current medication use strongly suggest the patient still has hypertension. Therefore, the prediction is **Yes**.\n"
          ]
        }
      ]
    }
  ]
}